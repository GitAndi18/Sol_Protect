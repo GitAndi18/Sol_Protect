{
 "cells": [
  {
   "cell_type": "markdown",
   "id": "eadf29d8",
   "metadata": {},
   "source": [
    "# Solarstrahlung - 2"
   ]
  },
  {
   "cell_type": "markdown",
   "id": "cb105202",
   "metadata": {},
   "source": [
    "Mit folgender Gleichung lässt sich die pro m² und pro Wellenlängenintervall emittierte Strahlungsleistung eines schwarzen Körpers berechnen\n",
    "\n",
    "$$\n",
    "    I(\\lambda, T) = \\frac{\\lambda^{5}}{\\mathrm{e}^{\\lambda/T} + 1}\n",
    "$$"
   ]
  },
  {
   "cell_type": "markdown",
   "id": "e83d43b7",
   "metadata": {},
   "source": [
    "##### Übung 1: \n",
    "Bevor man \"click to show\" drückt, schreibe man ein kleines Programm, \n",
    "um den spektralen Verlauf der Schwarzkörperstrahlung zu berechnen und darzustellen. "
   ]
  },
  {
   "cell_type": "code",
   "execution_count": 1,
   "id": "bda4f28e",
   "metadata": {
    "tags": [
     "hide-input"
    ]
   },
   "outputs": [
    {
     "data": {
      "text/plain": [
       "[<matplotlib.lines.Line2D at 0x16e34048148>]"
      ]
     },
     "execution_count": 1,
     "metadata": {},
     "output_type": "execute_result"
    },
    {
     "data": {
      "image/png": "[encoded data removed]",
      "text/plain": [
       "<Figure size 432x288 with 1 Axes>"
      ]
     },
     "metadata": {
      "filenames": {
       "image/png": "C:\\Users\\beck\\JuBooks\\Sonnenschutz\\_build\\jupyter_execute\\SolRad2_3_1.png"
      },
      "needs_background": "light"
     },
     "output_type": "display_data"
    }
   ],
   "source": [
    "import numpy as np\n",
    "import matplotlib.pyplot as plt\n",
    "\n",
    "def SolRad(lam, T):\n",
    "    return lam**5*1/(np.exp(lam/T) + 1)\n",
    "\n",
    "lam = np.linspace(300, 3000, 100)\n",
    "i  = SolRad(lam=lam, T=5800)\n",
    "plt.xlabel('\\lambda')\n",
    "\n",
    "plt.plot(lam, i)"
   ]
  },
  {
   "cell_type": "code",
   "execution_count": null,
   "id": "7ea0a6b8",
   "metadata": {},
   "outputs": [],
   "source": []
  }
 ],
 "metadata": {
  "kernelspec": {
   "display_name": "Python 3 (ipykernel)",
   "language": "python",
   "name": "python3"
  },
  "language_info": {
   "codemirror_mode": {
    "name": "ipython",
    "version": 3
   },
   "file_extension": ".py",
   "mimetype": "text/x-python",
   "name": "python",
   "nbconvert_exporter": "python",
   "pygments_lexer": "ipython3",
   "version": "3.7.11"
  }
 },
 "nbformat": 4,
 "nbformat_minor": 5
}