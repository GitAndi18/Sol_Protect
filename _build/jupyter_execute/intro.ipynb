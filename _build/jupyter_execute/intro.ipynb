{
 "cells": [
  {
   "cell_type": "markdown",
   "id": "40859640",
   "metadata": {},
   "source": [
    "# Motivation\n",
    "\n",
    "Der Sonnneschutz für Gebäude ist sehr wichtig für Behaglichkeit und Klimaschutz.\n",
    "\n",
    "Tolle Info finden sie hier {cite}`bellia2014overview` und hier {cite}`lampert1998smart`\n",
    "\n",
    "# Markdown content is written as regular markdown\n",
    "\n",
    "Here is a note!\n",
    "\n",
    "(label-name)=\n",
    "## Execute Markdown\n",
    "\n",
    "    print(\"Here is some code to execute\")\n",
    "\n",
    "``` {code-cell}\n",
    "---\n",
    "render:\n",
    "  image:\n",
    "    width: 200px\n",
    "    alt: fun-fish\n",
    "    classes: shadow bg-primary\n",
    "  figure:\n",
    "    caption: |\n",
    "      Hey everyone its **party** time!\n",
    "    name: fish\n",
    "---\n",
    "from IPython.display import Image\n",
    "Image(\"fish.png\")\n",
    "```\n",
    "\n",
    "    Some content {SolRad}`and here is my role's content!`\n",
    "\n",
    "Näheres erfahren sie in {doc}`SolRad`\n",
    "\n",
    "And here is a code block:"
   ]
  },
  {
   "cell_type": "code",
   "execution_count": 1,
   "id": "9ad9e7f3",
   "metadata": {},
   "outputs": [
    {
     "data": {
      "text/plain": [
       "[<matplotlib.lines.Line2D at 0x1afee785248>]"
      ]
     },
     "execution_count": 1,
     "metadata": {},
     "output_type": "execute_result"
    },
    {
     "data": {
      "image/png": "[encoded data removed]",
      "text/plain": [
       "<Figure size 432x288 with 1 Axes>"
      ]
     },
     "metadata": {
      "filenames": {
       "image/png": "C:\\Users\\beck\\JuBooks\\Sonnenschutz\\_build\\jupyter_execute\\intro_1_1.png"
      },
      "needs_background": "light"
     },
     "output_type": "display_data"
    }
   ],
   "source": [
    "import numpy as np\n",
    "import matplotlib.pyplot as plt\n",
    "\n",
    "def SolRad(lam, T):\n",
    "    return lam**5*1/(np.exp(lam/T) + 1)\n",
    "\n",
    "lam = np.linspace(300, 3000, 100)\n",
    "i  = SolRad(lam=lam, T=5800)\n",
    "\n",
    "plt.plot(lam, i)"
   ]
  }
 ],
 "metadata": {
  "jupytext": {
   "formats": "md:myst",
   "text_representation": {
    "extension": ".md",
    "format_name": "myst",
    "format_version": 0.13,
    "jupytext_version": "1.11.5"
   }
  },
  "kernelspec": {
   "display_name": "Python 3 (ipykernel)",
   "language": "python",
   "name": "python3"
  },
  "language_info": {
   "codemirror_mode": {
    "name": "ipython",
    "version": 3
   },
   "file_extension": ".py",
   "mimetype": "text/x-python",
   "name": "python",
   "nbconvert_exporter": "python",
   "pygments_lexer": "ipython3",
   "version": "3.7.11"
  },
  "source_map": [
   13,
   51
  ]
 },
 "nbformat": 4,
 "nbformat_minor": 5
}